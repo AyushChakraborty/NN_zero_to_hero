{
 "cells": [
  {
   "cell_type": "code",
   "execution_count": 3,
   "metadata": {},
   "outputs": [
    {
     "name": "stdout",
     "output_type": "stream",
     "text": [
      "**Hello!**\n",
      "\n",
      "*Nice to meet you!* I'm thrilled to have you here. As your helpful assistant, I'm all set to provide assistance, answer questions, or simply chat with you on a topic of your interest.\n",
      "\n",
      "To get us started, could you please pick one (or more) of the following options that best describe what's on your mind today?\n",
      "\n",
      "1. **Ask a Question**: Got a specific query on a particular subject (e.g., tech, history, science, entertainment, etc.)?\n",
      "2. **Topic for Discussion**: Interested in exploring a topic in-depth (e.g., hobbies, news, trends, etc.)?\n",
      "3. **Generate Ideas**: Need help brainstorming ideas for a project, story, or perhaps a gift?\n",
      "4. **Just Chat**: Simply looking for some casual conversation to brighten up your day?\n",
      "5. **Something Else** (please specify): If none of the above fits, tell me what's on your mind, and I'll do my best to accommodate your request!\n",
      "\n",
      "Type away, and let's get this conversation started!"
     ]
    }
   ],
   "source": [
    "from openai import OpenAI\n",
    "import os\n",
    "from dotenv import load_dotenv\n",
    "\n",
    "load_dotenv()  #to load the environment variables from the .env file\n",
    "\n",
    "api_key = os.getenv(\"NVIDIA_API_KEY\")\n",
    "\n",
    "client = OpenAI(\n",
    "  base_url = \"https://integrate.api.nvidia.com/v1\",\n",
    "  api_key = api_key\n",
    ")\n",
    "\n",
    "completion = client.chat.completions.create(\n",
    "  model=\"nvidia/llama-3.1-nemotron-70b-instruct\",\n",
    "  messages=[{\"role\":\"system\",\"content\":\"You are a helpful assistant.\"},{\"role\":\"user\",\"content\":\"hello there\"}],\n",
    "  temperature=1,\n",
    "  top_p=0.7,\n",
    "  max_tokens=1024,\n",
    "  stream=True\n",
    ")\n",
    "\n",
    "for chunk in completion:\n",
    "  if chunk.choices[0].delta.content is not None:\n",
    "    print(chunk.choices[0].delta.content, end=\"\")\n",
    "\n"
   ]
  },
  {
   "cell_type": "code",
   "execution_count": null,
   "metadata": {},
   "outputs": [],
   "source": []
  }
 ],
 "metadata": {
  "kernelspec": {
   "display_name": "env1",
   "language": "python",
   "name": "python3"
  },
  "language_info": {
   "codemirror_mode": {
    "name": "ipython",
    "version": 3
   },
   "file_extension": ".py",
   "mimetype": "text/x-python",
   "name": "python",
   "nbconvert_exporter": "python",
   "pygments_lexer": "ipython3",
   "version": "3.11.5"
  }
 },
 "nbformat": 4,
 "nbformat_minor": 2
}
